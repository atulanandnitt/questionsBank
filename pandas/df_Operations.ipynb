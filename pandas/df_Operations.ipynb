{
 "cells": [
  {
   "cell_type": "code",
   "execution_count": 29,
   "metadata": {},
   "outputs": [],
   "source": [
    "import logging\n",
    "import urllib\n",
    "import pandas as  pd\n",
    "import pandas_gbq as pdgb\n",
    "import os\n",
    "import shutil\n",
    "import datetime\n",
    "\n",
    "logger = logging.getLogger()"
   ]
  },
  {
   "cell_type": "code",
   "execution_count": 30,
   "metadata": {},
   "outputs": [],
   "source": [
    "def findNameAndEmpNoOfManagerOfSales(df1,df2):\n",
    "    df3 = pd.merge(left=df1,right=df2,how=\"left\",left_on='DEPTNO', right_on='DEPTNO')\n",
    "    # df3 = df1.merge(df2, how='left', left_on='DEPTNO', right_on='DEPTNO')\n",
    "    df4 = df3[df3[\"JOB\"]==\"MANAGER\"]\n",
    "    df5 = df3[df3[\"DNAME\"]==\"SALES\"]\n",
    "    df6 = pd.merge(left=df4,right=df5,how=\"inner\")\n",
    "    print(\"findNameAndEmpNoOfManagerOfSales : \")\n",
    "    print(df6[:][[\"ENAME\",\"JOB\",\"DNAME\",\"EMPNO\"]])\n",
    "    \n"
   ]
  },
  {
   "cell_type": "code",
   "execution_count": 31,
   "metadata": {},
   "outputs": [],
   "source": [
    "def readCompleteFileAsString(fileName1 = \"../fileHandling/src_file/input_data_spikey_sales_weekly.csv\" ,fileName2 = \"../fileHandling/src_file/input_data_spikey_sales_weekly.csv\" ):\n",
    "    df1 = pd.read_csv(fileName1)#, dtype={'Contact_Name': str}, low_memory=False)\n",
    "    # print(df1)\n",
    "    df2 = pd.read_csv(fileName2,delimiter=',')\n",
    "    findNameAndEmpNoOfManagerOfSales(df1, df2)\n",
    "    findNameAndEmpNoOfManagerOfSalesAndResearch(df1,df2)\n",
    "    "
   ]
  },
  {
   "cell_type": "code",
   "execution_count": 32,
   "metadata": {},
   "outputs": [
    {
     "name": "stdout",
     "output_type": "stream",
     "text": [
      "findNameAndEmpNoOfManagerOfSales : \n",
      "   ENAME      JOB  DNAME   EMPNO\n",
      "0  BLAKE  MANAGER  SALES  7698.0\n",
      "findNameAndEmpNoOfManagerOfSales : \n",
      "Empty DataFrame\n",
      "Columns: [ENAME, JOB, DNAME, EMPNO]\n",
      "Index: []\n"
     ]
    }
   ],
   "source": [
    "readCompleteFileAsString(fileName1 = \"../fileHandling/src_file/dept_table.csv\", fileName2 = \"../fileHandling/src_file/emp_table.csv\")\n",
    "    "
   ]
  },
  {
   "cell_type": "code",
   "execution_count": 37,
   "metadata": {},
   "outputs": [],
   "source": [
    "def findNameAndEmpNoOfManagerOfSalesAndResearch(df1,df2):\n",
    "    df3 = pd.merge(left=df1,right=df2,how=\"left\",left_on='DEPTNO', right_on='DEPTNO')\n",
    "    # df3 = df1.merge(df2, how='left', left_on='DEPTNO', right_on='DEPTNO')\n",
    "    df4 = df3[df3[\"JOB\"]==\"MANAGER\"]\n",
    "    df5_1 = df3[df3[\"DNAME\"]==\"RESEARCH\"]\n",
    "    df5_2 = df3[df3[\"DNAME\"]==\"SALES\"]\n",
    "    df5 = pd.merge(left=df5_1,right=df5_2,how=\"outer\")\n",
    "    df6 = pd.merge(left=df4,right=df5,how=\"inner\")\n",
    "    print(\"findNameAndEmpNoOfManagerOfSales : \")\n",
    "    print(df6[:][[\"ENAME\",\"JOB\",\"DNAME\",\"EMPNO\"]])"
   ]
  },
  {
   "cell_type": "code",
   "execution_count": 38,
   "metadata": {},
   "outputs": [
    {
     "name": "stdout",
     "output_type": "stream",
     "text": [
      "findNameAndEmpNoOfManagerOfSales : \n",
      "   ENAME      JOB     DNAME   EMPNO\n",
      "0  JONES  MANAGER  RESEARCH  7566.0\n",
      "1  BLAKE  MANAGER     SALES  7698.0\n"
     ]
    }
   ],
   "source": [
    "def readCompleteFileAsString(fileName1 = \"../fileHandling/src_file/input_data_spikey_sales_weekly.csv\" ,fileName2 = \"../fileHandling/src_file/input_data_spikey_sales_weekly.csv\" ):\n",
    "    df1 = pd.read_csv(fileName1)#, dtype={'Contact_Name': str}, low_memory=False)\n",
    "    # print(df1)\n",
    "    df2 = pd.read_csv(fileName2,delimiter=',')\n",
    "#     findNameAndEmpNoOfManagerOfSales(df1, df2)\n",
    "    findNameAndEmpNoOfManagerOfSalesAndResearch(df1,df2)\n",
    "    \n",
    "readCompleteFileAsString(fileName1 = \"../fileHandling/src_file/dept_table.csv\", fileName2 = \"../fileHandling/src_file/emp_table.csv\")\n",
    "        "
   ]
  },
  {
   "cell_type": "code",
   "execution_count": 68,
   "metadata": {},
   "outputs": [
    {
     "name": "stdout",
     "output_type": "stream",
     "text": [
      "Index([u'DEPTNO', u'DNAME', u'LOC', u'EMPNO', u'ENAME', u'MGR', u'HIREDATE',\n",
      "       u'SAL', u'COMM'],\n",
      "      dtype='object')\n",
      "Index([u'PRESIDENT',   u'MANAGER',     u'CLERK',   u'MANAGER',   u'ANALYST',\n",
      "         u'ANALYST',     u'CLERK',     u'CLERK',   u'MANAGER',  u'SALESMAN',\n",
      "        u'SALESMAN',  u'SALESMAN',  u'SALESMAN',     u'CLERK',          nan],\n",
      "      dtype='object', name=u'JOB')\n",
      "           DEPTNO       DNAME       LOC   EMPNO   ENAME   MGR   HIREDATE  \\\n",
      "JOB                                                                        \n",
      "PRESIDENT      10  ACCOUNTING  NEW YORK  7839.0    KING    -   17-NOV-81   \n",
      "MANAGER        10  ACCOUNTING  NEW YORK  7782.0   CLARK  7839  09-JUN-81   \n",
      "CLERK          10  ACCOUNTING  NEW YORK  7934.0  MILLER  7782  23-JAN-82   \n",
      "MANAGER        20    RESEARCH    DALLAS  7566.0   JONES  7839  02-APR-81   \n",
      "ANALYST        20    RESEARCH    DALLAS  7788.0   SCOTT  7566  19-APR-87   \n",
      "\n",
      "              SAL COMM  \n",
      "JOB                     \n",
      "PRESIDENT  5000.0   -   \n",
      "MANAGER    2450.0   -   \n",
      "CLERK      1300.0   -   \n",
      "MANAGER    2975.0   -   \n",
      "ANALYST    3000.0   -   \n"
     ]
    },
    {
     "ename": "KeyError",
     "evalue": "\"['JOB'] not in index\"",
     "output_type": "error",
     "traceback": [
      "\u001b[1;31m---------------------------------------------------------------------------\u001b[0m",
      "\u001b[1;31mKeyError\u001b[0m                                  Traceback (most recent call last)",
      "\u001b[1;32m<ipython-input-68-0e4f48537c0c>\u001b[0m in \u001b[0;36m<module>\u001b[1;34m()\u001b[0m\n\u001b[0;32m     17\u001b[0m     \u001b[0mfindNameAndEmpNoOfManagerOfSalesAndResearch2\u001b[0m\u001b[1;33m(\u001b[0m\u001b[0mdf1\u001b[0m\u001b[1;33m,\u001b[0m\u001b[0mdf2\u001b[0m\u001b[1;33m)\u001b[0m\u001b[1;33m\u001b[0m\u001b[0m\n\u001b[0;32m     18\u001b[0m \u001b[1;33m\u001b[0m\u001b[0m\n\u001b[1;32m---> 19\u001b[1;33m \u001b[0mreadCompleteFileAsString\u001b[0m\u001b[1;33m(\u001b[0m\u001b[0mfileName1\u001b[0m \u001b[1;33m=\u001b[0m \u001b[1;34m\"../fileHandling/src_file/dept_table.csv\"\u001b[0m\u001b[1;33m,\u001b[0m \u001b[0mfileName2\u001b[0m \u001b[1;33m=\u001b[0m \u001b[1;34m\"../fileHandling/src_file/emp_table.csv\"\u001b[0m\u001b[1;33m)\u001b[0m\u001b[1;33m\u001b[0m\u001b[0m\n\u001b[0m\u001b[0;32m     20\u001b[0m \u001b[1;33m\u001b[0m\u001b[0m\n",
      "\u001b[1;32m<ipython-input-68-0e4f48537c0c>\u001b[0m in \u001b[0;36mreadCompleteFileAsString\u001b[1;34m(fileName1, fileName2)\u001b[0m\n\u001b[0;32m     15\u001b[0m     \u001b[0mdf1\u001b[0m \u001b[1;33m=\u001b[0m \u001b[0mpd\u001b[0m\u001b[1;33m.\u001b[0m\u001b[0mread_csv\u001b[0m\u001b[1;33m(\u001b[0m\u001b[0mfileName1\u001b[0m\u001b[1;33m)\u001b[0m\u001b[1;31m#, dtype={'Contact_Name': str}, low_memory=False)\u001b[0m\u001b[1;33m\u001b[0m\u001b[0m\n\u001b[0;32m     16\u001b[0m     \u001b[0mdf2\u001b[0m \u001b[1;33m=\u001b[0m \u001b[0mpd\u001b[0m\u001b[1;33m.\u001b[0m\u001b[0mread_csv\u001b[0m\u001b[1;33m(\u001b[0m\u001b[0mfileName2\u001b[0m\u001b[1;33m,\u001b[0m\u001b[0mdelimiter\u001b[0m\u001b[1;33m=\u001b[0m\u001b[1;34m','\u001b[0m\u001b[1;33m)\u001b[0m\u001b[1;33m\u001b[0m\u001b[0m\n\u001b[1;32m---> 17\u001b[1;33m     \u001b[0mfindNameAndEmpNoOfManagerOfSalesAndResearch2\u001b[0m\u001b[1;33m(\u001b[0m\u001b[0mdf1\u001b[0m\u001b[1;33m,\u001b[0m\u001b[0mdf2\u001b[0m\u001b[1;33m)\u001b[0m\u001b[1;33m\u001b[0m\u001b[0m\n\u001b[0m\u001b[0;32m     18\u001b[0m \u001b[1;33m\u001b[0m\u001b[0m\n\u001b[0;32m     19\u001b[0m \u001b[0mreadCompleteFileAsString\u001b[0m\u001b[1;33m(\u001b[0m\u001b[0mfileName1\u001b[0m \u001b[1;33m=\u001b[0m \u001b[1;34m\"../fileHandling/src_file/dept_table.csv\"\u001b[0m\u001b[1;33m,\u001b[0m \u001b[0mfileName2\u001b[0m \u001b[1;33m=\u001b[0m \u001b[1;34m\"../fileHandling/src_file/emp_table.csv\"\u001b[0m\u001b[1;33m)\u001b[0m\u001b[1;33m\u001b[0m\u001b[0m\n",
      "\u001b[1;32m<ipython-input-68-0e4f48537c0c>\u001b[0m in \u001b[0;36mfindNameAndEmpNoOfManagerOfSalesAndResearch2\u001b[1;34m(df1, df2)\u001b[0m\n\u001b[0;32m      9\u001b[0m     \u001b[1;32mprint\u001b[0m\u001b[1;33m(\u001b[0m\u001b[0mdf3\u001b[0m\u001b[1;33m.\u001b[0m\u001b[0mhead\u001b[0m\u001b[1;33m(\u001b[0m\u001b[1;33m)\u001b[0m\u001b[1;33m)\u001b[0m\u001b[1;33m\u001b[0m\u001b[0m\n\u001b[0;32m     10\u001b[0m     \u001b[1;31m#     print(df3.data)\u001b[0m\u001b[1;33m\u001b[0m\u001b[1;33m\u001b[0m\u001b[0m\n\u001b[1;32m---> 11\u001b[1;33m     \u001b[1;32mprint\u001b[0m\u001b[1;33m(\u001b[0m\u001b[0mdf3\u001b[0m\u001b[1;33m[\u001b[0m\u001b[0mrows\u001b[0m\u001b[1;33m]\u001b[0m\u001b[1;33m[\u001b[0m\u001b[1;33m:\u001b[0m\u001b[1;33m]\u001b[0m\u001b[1;33m)\u001b[0m\u001b[1;33m\u001b[0m\u001b[0m\n\u001b[0m\u001b[0;32m     12\u001b[0m \u001b[1;33m\u001b[0m\u001b[0m\n\u001b[0;32m     13\u001b[0m \u001b[1;33m\u001b[0m\u001b[0m\n",
      "\u001b[1;32mc:\\users\\atulan~1\\pychar~1\\bq_poc~2\\venv\\lib\\site-packages\\pandas\\core\\frame.pyc\u001b[0m in \u001b[0;36m__getitem__\u001b[1;34m(self, key)\u001b[0m\n\u001b[0;32m   2932\u001b[0m                 \u001b[0mkey\u001b[0m \u001b[1;33m=\u001b[0m \u001b[0mlist\u001b[0m\u001b[1;33m(\u001b[0m\u001b[0mkey\u001b[0m\u001b[1;33m)\u001b[0m\u001b[1;33m\u001b[0m\u001b[0m\n\u001b[0;32m   2933\u001b[0m             indexer = self.loc._convert_to_indexer(key, axis=1,\n\u001b[1;32m-> 2934\u001b[1;33m                                                    raise_missing=True)\n\u001b[0m\u001b[0;32m   2935\u001b[0m \u001b[1;33m\u001b[0m\u001b[0m\n\u001b[0;32m   2936\u001b[0m         \u001b[1;31m# take() does not accept boolean indexers\u001b[0m\u001b[1;33m\u001b[0m\u001b[1;33m\u001b[0m\u001b[0m\n",
      "\u001b[1;32mc:\\users\\atulan~1\\pychar~1\\bq_poc~2\\venv\\lib\\site-packages\\pandas\\core\\indexing.pyc\u001b[0m in \u001b[0;36m_convert_to_indexer\u001b[1;34m(self, obj, axis, is_setter, raise_missing)\u001b[0m\n\u001b[0;32m   1352\u001b[0m                 kwargs = {'raise_missing': True if is_setter else\n\u001b[0;32m   1353\u001b[0m                           raise_missing}\n\u001b[1;32m-> 1354\u001b[1;33m                 \u001b[1;32mreturn\u001b[0m \u001b[0mself\u001b[0m\u001b[1;33m.\u001b[0m\u001b[0m_get_listlike_indexer\u001b[0m\u001b[1;33m(\u001b[0m\u001b[0mobj\u001b[0m\u001b[1;33m,\u001b[0m \u001b[0maxis\u001b[0m\u001b[1;33m,\u001b[0m \u001b[1;33m**\u001b[0m\u001b[0mkwargs\u001b[0m\u001b[1;33m)\u001b[0m\u001b[1;33m[\u001b[0m\u001b[1;36m1\u001b[0m\u001b[1;33m]\u001b[0m\u001b[1;33m\u001b[0m\u001b[0m\n\u001b[0m\u001b[0;32m   1355\u001b[0m         \u001b[1;32melse\u001b[0m\u001b[1;33m:\u001b[0m\u001b[1;33m\u001b[0m\u001b[0m\n\u001b[0;32m   1356\u001b[0m             \u001b[1;32mtry\u001b[0m\u001b[1;33m:\u001b[0m\u001b[1;33m\u001b[0m\u001b[0m\n",
      "\u001b[1;32mc:\\users\\atulan~1\\pychar~1\\bq_poc~2\\venv\\lib\\site-packages\\pandas\\core\\indexing.pyc\u001b[0m in \u001b[0;36m_get_listlike_indexer\u001b[1;34m(self, key, axis, raise_missing)\u001b[0m\n\u001b[0;32m   1159\u001b[0m         self._validate_read_indexer(keyarr, indexer,\n\u001b[0;32m   1160\u001b[0m                                     \u001b[0mo\u001b[0m\u001b[1;33m.\u001b[0m\u001b[0m_get_axis_number\u001b[0m\u001b[1;33m(\u001b[0m\u001b[0maxis\u001b[0m\u001b[1;33m)\u001b[0m\u001b[1;33m,\u001b[0m\u001b[1;33m\u001b[0m\u001b[0m\n\u001b[1;32m-> 1161\u001b[1;33m                                     raise_missing=raise_missing)\n\u001b[0m\u001b[0;32m   1162\u001b[0m         \u001b[1;32mreturn\u001b[0m \u001b[0mkeyarr\u001b[0m\u001b[1;33m,\u001b[0m \u001b[0mindexer\u001b[0m\u001b[1;33m\u001b[0m\u001b[0m\n\u001b[0;32m   1163\u001b[0m \u001b[1;33m\u001b[0m\u001b[0m\n",
      "\u001b[1;32mc:\\users\\atulan~1\\pychar~1\\bq_poc~2\\venv\\lib\\site-packages\\pandas\\core\\indexing.pyc\u001b[0m in \u001b[0;36m_validate_read_indexer\u001b[1;34m(self, key, indexer, axis, raise_missing)\u001b[0m\n\u001b[0;32m   1250\u001b[0m             \u001b[1;32mif\u001b[0m \u001b[1;32mnot\u001b[0m\u001b[1;33m(\u001b[0m\u001b[0mself\u001b[0m\u001b[1;33m.\u001b[0m\u001b[0mname\u001b[0m \u001b[1;33m==\u001b[0m \u001b[1;34m'loc'\u001b[0m \u001b[1;32mand\u001b[0m \u001b[1;32mnot\u001b[0m \u001b[0mraise_missing\u001b[0m\u001b[1;33m)\u001b[0m\u001b[1;33m:\u001b[0m\u001b[1;33m\u001b[0m\u001b[0m\n\u001b[0;32m   1251\u001b[0m                 \u001b[0mnot_found\u001b[0m \u001b[1;33m=\u001b[0m \u001b[0mlist\u001b[0m\u001b[1;33m(\u001b[0m\u001b[0mset\u001b[0m\u001b[1;33m(\u001b[0m\u001b[0mkey\u001b[0m\u001b[1;33m)\u001b[0m \u001b[1;33m-\u001b[0m \u001b[0mset\u001b[0m\u001b[1;33m(\u001b[0m\u001b[0max\u001b[0m\u001b[1;33m)\u001b[0m\u001b[1;33m)\u001b[0m\u001b[1;33m\u001b[0m\u001b[0m\n\u001b[1;32m-> 1252\u001b[1;33m                 \u001b[1;32mraise\u001b[0m \u001b[0mKeyError\u001b[0m\u001b[1;33m(\u001b[0m\u001b[1;34m\"{} not in index\"\u001b[0m\u001b[1;33m.\u001b[0m\u001b[0mformat\u001b[0m\u001b[1;33m(\u001b[0m\u001b[0mnot_found\u001b[0m\u001b[1;33m)\u001b[0m\u001b[1;33m)\u001b[0m\u001b[1;33m\u001b[0m\u001b[0m\n\u001b[0m\u001b[0;32m   1253\u001b[0m \u001b[1;33m\u001b[0m\u001b[0m\n\u001b[0;32m   1254\u001b[0m             \u001b[1;31m# we skip the warning on Categorical/Interval\u001b[0m\u001b[1;33m\u001b[0m\u001b[1;33m\u001b[0m\u001b[0m\n",
      "\u001b[1;31mKeyError\u001b[0m: \"['JOB'] not in index\""
     ]
    }
   ],
   "source": [
    "# def findNameAndEmpNoOfManagerOfSalesAndResearch2(df1,df2):\n",
    "#     df3 = pd.merge(left=df1,right=df2,how=\"left\",left_on='DEPTNO', right_on='DEPTNO')\n",
    "#     df3.set_index('JOB', inplace = True)\n",
    "#     columns = [\"ENAME\",\"JOB\",\"DNAME\",\"EMPNO\"]    \n",
    "#     rows = ['MANAGER']\n",
    "\n",
    "#     print(df3.columns)\n",
    "#     print(df3.index)\n",
    "#     print(df3.head())\n",
    "#     #     print(df3.data)\n",
    "#     print(df3[rows][columns])\n",
    "    \n",
    "    \n",
    "# def readCompleteFileAsString(fileName1 = \"../fileHandling/src_file/input_data_spikey_sales_weekly.csv\" ,fileName2 = \"../fileHandling/src_file/input_data_spikey_sales_weekly.csv\" ):\n",
    "#     df1 = pd.read_csv(fileName1)#, dtype={'Contact_Name': str}, low_memory=False)\n",
    "#     df2 = pd.read_csv(fileName2,delimiter=',')\n",
    "#     findNameAndEmpNoOfManagerOfSalesAndResearch2(df1,df2)\n",
    "    \n",
    "# readCompleteFileAsString(fileName1 = \"../fileHandling/src_file/dept_table.csv\", fileName2 = \"../fileHandling/src_file/emp_table.csv\")\n",
    "        "
   ]
  },
  {
   "cell_type": "code",
   "execution_count": null,
   "metadata": {},
   "outputs": [],
   "source": []
  }
 ],
 "metadata": {
  "kernelspec": {
   "display_name": "Python 2",
   "language": "python",
   "name": "python2"
  },
  "language_info": {
   "codemirror_mode": {
    "name": "ipython",
    "version": 2
   },
   "file_extension": ".py",
   "mimetype": "text/x-python",
   "name": "python",
   "nbconvert_exporter": "python",
   "pygments_lexer": "ipython2",
   "version": "2.7.16"
  }
 },
 "nbformat": 4,
 "nbformat_minor": 2
}
