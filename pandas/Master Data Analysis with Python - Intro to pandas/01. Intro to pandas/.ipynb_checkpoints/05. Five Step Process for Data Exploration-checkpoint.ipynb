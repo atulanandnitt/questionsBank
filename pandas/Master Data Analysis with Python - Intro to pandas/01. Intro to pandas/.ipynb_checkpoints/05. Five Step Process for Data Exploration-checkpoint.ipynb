{
 "cells": [
  {
   "cell_type": "markdown",
   "metadata": {},
   "source": [
    "# Five-Step Process for Data Exploration\n",
    "\n",
    "## Overview\n",
    "\n",
    "A major pain point for beginners is writing too many lines of code in a single cell. When you are learning, you need to get feedback on every single line of code that you write and verify that it is in fact correct. Only once you have verified the result should you move on to the next line of code.\n",
    "\n",
    "To help increase your ability to do data exploration in Jupyter Notebooks, I recommend the following five-step process:\n",
    "\n",
    "1. Write and execute a single line of code to explore your data\n",
    "1. Verify that this line of code works by inspecting the output\n",
    "1. Assign the result to a variable\n",
    "1. Within the same cell, in a second line output the head of the DataFrame or Series\n",
    "1. Continue to the next cell. Do not add more lines of code to the cell\n",
    "\n",
    "### Apply to every part of the analysis\n",
    "You can apply this process to every part of your data analysis. Let's see this process in action with a few examples. We will start by reading in the data."
   ]
  },
  {
   "cell_type": "code",
   "execution_count": 1,
   "metadata": {},
   "outputs": [],
   "source": [
    "import pandas as pd"
   ]
  },
  {
   "cell_type": "markdown",
   "metadata": {},
   "source": [
    "### Step 1: Write and execute a single line of code to explore your data\n",
    "\n",
    "In this step, we make a call to the `read_csv` function."
   ]
  },
  {
   "cell_type": "code",
   "execution_count": null,
   "metadata": {
    "scrolled": false
   },
   "outputs": [],
   "source": [
    "pd.read_csv('../data/bikes.csv')"
   ]
  },
  {
   "cell_type": "markdown",
   "metadata": {},
   "source": [
    "### Step 2: Verify that this line of code works by inspecting the output\n",
    "\n",
    "Looking above, the output appears to be correct. Of course, we can't inspect every single value, but we can do a sanity check to see if indeed a reasonable-looking DataFrame is produced.\n",
    "\n",
    "### Step 3: Assign the result to a variable\n",
    "\n",
    "You would normally do this step in the same cell, but for this demonstration, we will place it in the cell below."
   ]
  },
  {
   "cell_type": "code",
   "execution_count": null,
   "metadata": {},
   "outputs": [],
   "source": [
    "bikes = pd.read_csv('../data/bikes.csv')"
   ]
  },
  {
   "cell_type": "markdown",
   "metadata": {},
   "source": [
    "### Step 4: Within the same cell, in a second line output the head of the DataFrame or Series\n",
    "\n",
    "Again, all these steps would be combined in the same cell."
   ]
  },
  {
   "cell_type": "code",
   "execution_count": null,
   "metadata": {},
   "outputs": [],
   "source": [
    "bikes.head()"
   ]
  },
  {
   "cell_type": "markdown",
   "metadata": {},
   "source": [
    "### Step 5: Continue to the next cell. Do not add more lines of code to the cell\n",
    "\n",
    "It is tempting to do more analysis in a single cell. I advise against doing so when you are a beginner. By limiting your analysis to a single line per cell, and outputting that result, you can easily trace your work from one step to the next. Most lines of code in a notebook will apply some operation to the data. It is vital that you can see exactly what this operation is doing. If you put multiple lines of code in a single cell, you lose track of what is happening and can't easily determine the veracity of each operation.\n",
    "\n",
    "### More examples\n",
    "\n",
    "Let's see another simple example of the five-step process for data exploration in the notebook. Instead of writing each of the five steps in their own cell, the final result is shown with an explanation that follows."
   ]
  },
  {
   "cell_type": "code",
   "execution_count": null,
   "metadata": {},
   "outputs": [],
   "source": [
    "bikes = bikes.set_index('trip_id')\n",
    "bikes.head()"
   ]
  },
  {
   "cell_type": "markdown",
   "metadata": {},
   "source": [
    "In this part of the analysis, we want to set one of the columns as the index. During step 1, we write a single line of code, `bikes.set_index('trip_id')`. In step 2, we manually verify that the output looks correct. In step 3, we assign the result to a variable with `bikes = bikes.set_index('trip_id')`. In step 4, we output the head as another line of code, and in step 5, we move on to the next cell.\n",
    "\n",
    "### No strict requirement for one line of code\n",
    "The above examples each had a single main line of code followed by outputting the head of the DataFrame. Often times there will be a few more very simple lines of code that can be written in the same cell. You should not strictly adhere to writing a single line of code, but instead, think about keeping the amount of code written in a single cell to a minimum.\n",
    "\n",
    "For instance, the following block has three lines of code. The first is very simple and creates a list of column names as strings. This is an instance where multiple lines of code are easily interpreted."
   ]
  },
  {
   "cell_type": "code",
   "execution_count": null,
   "metadata": {},
   "outputs": [],
   "source": [
    "cols = ['gender', 'tripduration']\n",
    "bikes_gt = bikes[cols]\n",
    "bikes_gt.head()"
   ]
  },
  {
   "cell_type": "markdown",
   "metadata": {},
   "source": [
    "### When to assign the result to a variable\n",
    "Not all operations on our data will need to be assigned to a variable. We might just be interested in seeing the results. But, for many operations, you will want to continue with the new transformed data. By assigning the result to a variable, you have immediate access to the previous result.\n",
    "\n",
    "### When to create a new variable name\n",
    "In the second example, `bikes` was reassigned to itself. We did this because we no longer needed the original DataFrame. In the third example, we created an entirely new variable, `bikes_gt`. This was done because we wanted to keep the `bikes` DataFrame. Creating new variables also makes it easier to trace the flow of work. Debugging is easier as well since we will have preserved the result of the cell in its own variable (assuming we did not overwrite it in a later cell).\n",
    "\n",
    "### Continuously verifying results\n",
    "Regardless of how adept you become at doing data explorations, it is good practice to verify each line of code. Data science is difficult and it is easy to make mistakes. Data is also messy and it is good to be skeptical while proceeding through an analysis. Getting visual verification that each line of code is producing the desired result is important. Doing this also provides feedback to help you think about what avenues to explore next."
   ]
  }
 ],
 "metadata": {
  "kernelspec": {
   "display_name": "Python 2",
   "language": "python",
   "name": "python2"
  },
  "language_info": {
   "codemirror_mode": {
    "name": "ipython",
    "version": 2
   },
   "file_extension": ".py",
   "mimetype": "text/x-python",
   "name": "python",
   "nbconvert_exporter": "python",
   "pygments_lexer": "ipython2",
   "version": "2.7.16"
  },
  "varInspector": {
   "cols": {
    "lenName": 16,
    "lenType": 16,
    "lenVar": 40
   },
   "kernels_config": {
    "python": {
     "delete_cmd_postfix": "",
     "delete_cmd_prefix": "del ",
     "library": "var_list.py",
     "varRefreshCmd": "print(var_dic_list())"
    },
    "r": {
     "delete_cmd_postfix": ") ",
     "delete_cmd_prefix": "rm(",
     "library": "var_list.r",
     "varRefreshCmd": "cat(var_dic_list()) "
    }
   },
   "types_to_exclude": [
    "module",
    "function",
    "builtin_function_or_method",
    "instance",
    "_Feature"
   ],
   "window_display": false
  }
 },
 "nbformat": 4,
 "nbformat_minor": 2
}
